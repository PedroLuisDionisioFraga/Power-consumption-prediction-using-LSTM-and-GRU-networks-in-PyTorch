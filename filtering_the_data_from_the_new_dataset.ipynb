{
 "cells": [
  {
   "attachments": {},
   "cell_type": "markdown",
   "metadata": {},
   "source": [
    "# Manipulando dados no excel\n",
    "\n",
    "Usaremos 2 bibliotecas para manipulação de dados:\n",
    " * [openpyxl](https://openpyxl.readthedocs.io/en/stable/)\n",
    " * [pandas](https://pandas.pydata.org/)"
   ]
  },
  {
   "attachments": {},
   "cell_type": "markdown",
   "metadata": {},
   "source": [
    "### Usaremos agora a **pandas**"
   ]
  },
  {
   "cell_type": "code",
   "execution_count": 162,
   "metadata": {},
   "outputs": [],
   "source": [
    "import pandas as pd\n",
    "import os"
   ]
  },
  {
   "attachments": {},
   "cell_type": "markdown",
   "metadata": {},
   "source": [
    "#### Indicando o arquivo em excel\n",
    "_Obs:_ É possível usar tanto extensões od tipo \".xlsx\" e \".csv\". Trocar o nome do arquivo lido para fazer a filtragem."
   ]
  },
  {
   "cell_type": "code",
   "execution_count": 163,
   "metadata": {},
   "outputs": [],
   "source": [
    "#workSpace = pd.read_excel(\"data/consumo_sul_do_brasil.xlsx\", sheet_name=\"Worksheet\")\n",
    "workSpace = pd.read_excel(\"data/consumo_sul_do_brasil.xlsx\", sheet_name=\"Worksheet\")"
   ]
  },
  {
   "attachments": {},
   "cell_type": "markdown",
   "metadata": {},
   "source": [
    "#### Podemos ver o tamanho da planilha usando o método \"shape()\""
   ]
  },
  {
   "cell_type": "code",
   "execution_count": 164,
   "metadata": {},
   "outputs": [
    {
     "name": "stdout",
     "output_type": "stream",
     "text": [
      "(8766, 5)\n"
     ]
    }
   ],
   "source": [
    "print(workSpace.shape)"
   ]
  },
  {
   "attachments": {},
   "cell_type": "markdown",
   "metadata": {},
   "source": [
    "Também podemos retirar as colunas que não nos interessam, como:\n",
    " * Dia de Data \n",
    " * Período Exibido\n",
    " * Subsistema"
   ]
  },
  {
   "cell_type": "code",
   "execution_count": 165,
   "metadata": {},
   "outputs": [
    {
     "name": "stdout",
     "output_type": "stream",
     "text": [
      "(8766, 2)\n"
     ]
    }
   ],
   "source": [
    "# Removendo as colunas que não serão utilizadas em nossa análise\n",
    "#! Sul\n",
    "#workSpace = workSpace.drop(columns=[\"Dia de Data Escala de Tempo 1 CE Simp 4\", \"Período Exibido CE Simp 4\", \"Subsistema\"])\n",
    "#print(workSpace.shape)\n",
    "\n",
    "#! Norte\n",
    "workSpace = workSpace.drop(columns=[\"Dia de Data Escala de Tempo 1 CE Simp 4\", \"Período Exibido CE Simp 4\", \"Subsistema\"])\n",
    "print(workSpace.shape)"
   ]
  },
  {
   "attachments": {},
   "cell_type": "markdown",
   "metadata": {},
   "source": [
    "Agora possuímos apenas dados referentes ao município de Florianópolis. Porém a distribuição destes dados no DataFrame não está de forma ideal para analisá-los. Utilizaremos a função **melt()** para despivotar a tabela utilizando a coluna classe como referência, assim alterando o formato de **wide** para **long**"
   ]
  },
  {
   "cell_type": "code",
   "execution_count": 166,
   "metadata": {},
   "outputs": [
    {
     "name": "stdout",
     "output_type": "stream",
     "text": [
      "                 Datetime         MWh\n",
      "0     01/01/1999 00:00:00   109,74888\n",
      "1     02/01/1999 00:00:00   118,83792\n",
      "2     03/01/1999 00:00:00   117,29904\n",
      "3     04/01/1999 00:00:00   152,29632\n",
      "4     05/01/1999 00:00:00   153,91848\n",
      "...                   ...         ...\n",
      "8761  27/12/2022 00:00:00  279,059467\n",
      "8762  28/12/2022 00:00:00  264,907205\n",
      "8763  29/12/2022 00:00:00  255,616802\n",
      "8764  30/12/2022 00:00:00  257,337626\n",
      "8765  31/12/2022 00:00:00  245,716996\n",
      "\n",
      "[8766 rows x 2 columns]\n"
     ]
    }
   ],
   "source": [
    "# Renomeando as colunas restantes para refletir o que estamos analisando\n",
    "workSpace.rename(columns = {\"Data Escala de Tempo 1 CE Simp 4\":\"Datetime\", \"Selecione Tipo de CE Simp 4\":\"MWh\"}, inplace = True)\n",
    "print(workSpace)"
   ]
  },
  {
   "attachments": {},
   "cell_type": "markdown",
   "metadata": {},
   "source": [
    "### trocando \"/\" por \"-\" e \"00:00:00\" por \"01:00:00\""
   ]
  },
  {
   "cell_type": "code",
   "execution_count": 167,
   "metadata": {},
   "outputs": [
    {
     "name": "stdout",
     "output_type": "stream",
     "text": [
      "                 Datetime         MWh\n",
      "0     01-01-1999 01:00:00   109,74888\n",
      "1     02-01-1999 01:00:00   118,83792\n",
      "2     03-01-1999 01:00:00   117,29904\n",
      "3     04-01-1999 01:00:00   152,29632\n",
      "4     05-01-1999 01:00:00   153,91848\n",
      "...                   ...         ...\n",
      "8761  27-12-2022 01:00:00  279,059467\n",
      "8762  28-12-2022 01:00:00  264,907205\n",
      "8763  29-12-2022 01:00:00  255,616802\n",
      "8764  30-12-2022 01:00:00  257,337626\n",
      "8765  31-12-2022 01:00:00  245,716996\n",
      "\n",
      "[8766 rows x 2 columns]\n"
     ]
    }
   ],
   "source": [
    "workSpace['Datetime'] = workSpace['Datetime'].str.replace('/', '-')\n",
    "workSpace['Datetime'] = workSpace['Datetime'].str.replace('00:00:00', '01:00:00')\n",
    "print(workSpace)"
   ]
  },
  {
   "attachments": {},
   "cell_type": "markdown",
   "metadata": {},
   "source": [
    "## Convertendo a data de \"dd-mm-yyyy\" para \"yyyy-mm-dd\""
   ]
  },
  {
   "cell_type": "code",
   "execution_count": 168,
   "metadata": {},
   "outputs": [
    {
     "name": "stdout",
     "output_type": "stream",
     "text": [
      "                 Datetime         MWh\n",
      "0     1999-01-01 01:00:00   109,74888\n",
      "1     1999-01-02 01:00:00   118,83792\n",
      "2     1999-01-03 01:00:00   117,29904\n",
      "3     1999-01-04 01:00:00   152,29632\n",
      "4     1999-01-05 01:00:00   153,91848\n",
      "...                   ...         ...\n",
      "8761  2022-12-27 01:00:00  279,059467\n",
      "8762  2022-12-28 01:00:00  264,907205\n",
      "8763  2022-12-29 01:00:00  255,616802\n",
      "8764  2022-12-30 01:00:00  257,337626\n",
      "8765  2022-12-31 01:00:00  245,716996\n",
      "\n",
      "[8766 rows x 2 columns]\n"
     ]
    }
   ],
   "source": [
    "# Realizar a alteração na coluna desejada\n",
    "workSpace['Datetime'] = pd.to_datetime(workSpace['Datetime'], format='%d-%m-%Y %H:%M:%S')\n",
    "\n",
    "workSpace['Datetime'] = workSpace['Datetime'].dt.strftime('%Y-%m-%d %H:%M:%S')\n",
    "print(workSpace)"
   ]
  },
  {
   "attachments": {},
   "cell_type": "markdown",
   "metadata": {},
   "source": [
    "#### Convertendo para o formato \".csv\"\n",
    "\n",
    "1) Concatenando as colunas \"Datetime\" e \"MWh\""
   ]
  },
  {
   "cell_type": "code",
   "execution_count": 169,
   "metadata": {},
   "outputs": [],
   "source": [
    "# workSpace_concat = pd.concat([workSpace['Datetime'], workSpace['MWh']], axis=1)\n",
    "# print(workSpace_concat)"
   ]
  },
  {
   "attachments": {},
   "cell_type": "markdown",
   "metadata": {},
   "source": [
    "## Trocando \",\" por \".\""
   ]
  },
  {
   "cell_type": "code",
   "execution_count": 170,
   "metadata": {},
   "outputs": [
    {
     "name": "stdout",
     "output_type": "stream",
     "text": [
      "                 Datetime         MWh\n",
      "0     1999-01-01 01:00:00   109.74888\n",
      "1     1999-01-02 01:00:00   118.83792\n",
      "2     1999-01-03 01:00:00   117.29904\n",
      "3     1999-01-04 01:00:00   152.29632\n",
      "4     1999-01-05 01:00:00   153.91848\n",
      "...                   ...         ...\n",
      "8761  2022-12-27 01:00:00  279.059467\n",
      "8762  2022-12-28 01:00:00  264.907205\n",
      "8763  2022-12-29 01:00:00  255.616802\n",
      "8764  2022-12-30 01:00:00  257.337626\n",
      "8765  2022-12-31 01:00:00  245.716996\n",
      "\n",
      "[8766 rows x 2 columns]\n"
     ]
    }
   ],
   "source": [
    "workSpace['MWh'] = workSpace['MWh'].str.replace(',', '.')\n",
    "print(workSpace)"
   ]
  },
  {
   "attachments": {},
   "cell_type": "markdown",
   "metadata": {},
   "source": [
    "## Multiplicando os dados de MWh por 10000"
   ]
  },
  {
   "cell_type": "code",
   "execution_count": 171,
   "metadata": {},
   "outputs": [
    {
     "name": "stdout",
     "output_type": "stream",
     "text": [
      "                 Datetime    MWh\n",
      "0     1999-01-01 01:00:00  109.7\n",
      "1     1999-01-02 01:00:00  118.8\n",
      "2     1999-01-03 01:00:00  117.3\n",
      "3     1999-01-04 01:00:00  152.3\n",
      "4     1999-01-05 01:00:00  153.9\n",
      "...                   ...    ...\n",
      "8761  2022-12-27 01:00:00  279.1\n",
      "8762  2022-12-28 01:00:00  264.9\n",
      "8763  2022-12-29 01:00:00  255.6\n",
      "8764  2022-12-30 01:00:00  257.3\n",
      "8765  2022-12-31 01:00:00  245.7\n",
      "\n",
      "[8766 rows x 2 columns]\n"
     ]
    }
   ],
   "source": [
    "# workSpace_concat['MWh'] = workSpace_concat['MWh'].astype(float) * 10000.0\n",
    "# print(workSpace_concat)\n",
    "workSpace['MWh'] = workSpace['MWh'].astype(float).apply(lambda x: round(x, 1))\n",
    "print(workSpace)"
   ]
  },
  {
   "attachments": {},
   "cell_type": "markdown",
   "metadata": {},
   "source": [
    "## Pegando a parte inteira"
   ]
  },
  {
   "attachments": {},
   "cell_type": "markdown",
   "metadata": {},
   "source": [
    "## Transformando em float dnv"
   ]
  },
  {
   "attachments": {},
   "cell_type": "markdown",
   "metadata": {},
   "source": [
    "5) Convertendo no formato \".csv\" e salvando os modelos filtrados."
   ]
  },
  {
   "cell_type": "markdown",
   "metadata": {},
   "source": [
    "_Obs_: Trocar o nome do arquivo para o mesmo nome do arquivo lido para fazer o salvamento."
   ]
  },
  {
   "cell_type": "code",
   "execution_count": 172,
   "metadata": {},
   "outputs": [
    {
     "name": "stdout",
     "output_type": "stream",
     "text": [
      "                 Datetime    MWh\n",
      "0     1999-01-01 01:00:00  109.7\n",
      "1     1999-01-02 01:00:00  118.8\n",
      "2     1999-01-03 01:00:00  117.3\n",
      "3     1999-01-04 01:00:00  152.3\n",
      "4     1999-01-05 01:00:00  153.9\n",
      "...                   ...    ...\n",
      "8761  2022-12-27 01:00:00  279.1\n",
      "8762  2022-12-28 01:00:00  264.9\n",
      "8763  2022-12-29 01:00:00  255.6\n",
      "8764  2022-12-30 01:00:00  257.3\n",
      "8765  2022-12-31 01:00:00  245.7\n",
      "\n",
      "[8766 rows x 2 columns]\n"
     ]
    }
   ],
   "source": [
    "# Salvando as alterações concatenadas\n",
    "workSpace.to_csv(\"data/After Filters/gasto_energia_sul.csv\", index=False)\n",
    "print(workSpace)"
   ]
  }
 ],
 "metadata": {
  "kernelspec": {
   "display_name": "Python 3",
   "language": "python",
   "name": "python3"
  },
  "language_info": {
   "codemirror_mode": {
    "name": "ipython",
    "version": 3
   },
   "file_extension": ".py",
   "mimetype": "text/x-python",
   "name": "python",
   "nbconvert_exporter": "python",
   "pygments_lexer": "ipython3",
   "version": "3.8.0"
  },
  "orig_nbformat": 4
 },
 "nbformat": 4,
 "nbformat_minor": 2
}
